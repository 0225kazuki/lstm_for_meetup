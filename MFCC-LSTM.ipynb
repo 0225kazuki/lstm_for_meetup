{
 "cells": [
  {
   "cell_type": "markdown",
   "metadata": {},
   "source": [
    "# MFCC / speaker prediction / LSTM"
   ]
  },
  {
   "cell_type": "code",
   "execution_count": 1,
   "metadata": {
    "collapsed": true
   },
   "outputs": [],
   "source": [
    "import pandas as pd\n",
    "import numpy as np\n",
    "import math\n",
    "import random\n",
    "import matplotlib.pyplot as plt\n",
    "import glob\n",
    "%matplotlib inline"
   ]
  },
  {
   "cell_type": "code",
   "execution_count": 2,
   "metadata": {
    "scrolled": false
   },
   "outputs": [
    {
     "name": "stdout",
     "output_type": "stream",
     "text": [
      "[(103, 1), (1034, 0), (1040, 0), (1069, 1), (1081, 0), (1088, 1), (1098, 1), (1116, 1), (118, 0), (1183, 1), (1235, 0), (1246, 1), (125, 1), (1263, 1), (1334, 0), (1355, 0), (1363, 1), (1447, 1), (1455, 0), (150, 1), (1502, 1), (1553, 1), (1578, 1), (1594, 0), (1624, 0), (163, 0), (1723, 0), (1737, 1), (1743, 0), (1841, 1), (1867, 0), (1898, 1), (19, 1), (1926, 1), (196, 0), (1963, 1), (1970, 1), (198, 1), (1992, 1), (200, 1), (2002, 0), (2007, 1), (201, 0), (2092, 1), (211, 1), (2136, 0), (2159, 0), (2182, 1), (2196, 1), (226, 1), (2289, 0), (229, 0), (233, 0), (2384, 0), (2391, 1), (2416, 1), (2436, 0), (248, 1), (250, 1), (2514, 0), (2518, 0), (254, 0), (26, 0), (2691, 1), (27, 0), (2764, 1), (2817, 1), (2836, 1), (2843, 0), (289, 1), (2893, 0), (2910, 1), (2911, 0), (2952, 0), (298, 1), (2989, 1), (302, 1), (307, 0), (311, 0), (3112, 1), (3168, 0), (32, 1), (3214, 0), (322, 1), (3235, 1), (3240, 0), (3242, 0), (3259, 1), (328, 1), (332, 0), (3374, 0), (3436, 0), (3440, 1), (3486, 0), (3526, 1), (3607, 0), (3664, 0), (3699, 0), (3723, 0), (374, 0), (3807, 0), (3830, 0), (3857, 0), (3879, 1), (39, 1), (3947, 1), (3982, 1), (3983, 1), (40, 1), (4014, 0), (4018, 0), (403, 1), (405, 0), (4051, 1), (4088, 1), (412, 0), (4137, 1), (4160, 1), (4195, 1), (4214, 1), (426, 1), (4267, 0), (4297, 1), (4340, 1), (4362, 1), (4397, 0), (4406, 0), (441, 1), (4441, 0), (445, 0), (446, 0), (4481, 1), (458, 0), (460, 0), (4640, 1), (4680, 1), (4788, 0), (481, 0), (4813, 0), (4830, 0), (4853, 1), (4859, 0), (4898, 0), (5022, 1), (5049, 0), (5104, 0), (5163, 1), (5192, 0), (5322, 0), (5339, 1), (5390, 0), (5393, 1), (5456, 0), (5463, 0), (5514, 1), (5561, 1), (5652, 1), (5678, 0), (5688, 1), (5703, 0), (5750, 0), (5778, 1), (5789, 1), (5808, 0), (5867, 1), (587, 1), (60, 0), (6000, 1), (6019, 0), (6064, 1), (6078, 1), (6081, 0), (6147, 1), (6181, 0), (6209, 0), (625, 0), (6272, 1), (6367, 0), (6385, 1), (6415, 1), (6437, 0), (6454, 0), (6476, 1), (6529, 0), (6531, 1), (6563, 0), (669, 1), (6818, 1), (6836, 0), (6848, 0), (6880, 0), (6925, 0), (696, 1), (7059, 1), (7067, 0), (7078, 1), (7113, 1), (7148, 1), (7178, 1), (7190, 0), (7226, 0), (7264, 0), (7278, 0), (730, 1), (7302, 1), (7312, 0), (7367, 0), (7402, 0), (7447, 0), (7505, 0), (7511, 1), (7517, 1), (7635, 1), (7780, 1), (7794, 1), (78, 0), (7800, 1), (7859, 1), (8014, 1), (8051, 1), (8063, 0), (8088, 0), (8095, 0), (8098, 0), (8108, 0), (8123, 1), (8226, 0), (8238, 1), (83, 1), (831, 0), (8312, 1), (8324, 1), (839, 0), (8419, 0), (8425, 0), (8465, 1), (8468, 1), (8580, 0), (8609, 0), (8629, 0), (8630, 0), (87, 1), (8747, 0), (8770, 0), (8797, 0), (8838, 0), (887, 1), (89, 1), (8975, 1), (909, 0), (911, 0)]\n"
     ]
    }
   ],
   "source": [
    "import sqlite3\n",
    "\n",
    "\n",
    "conn = sqlite3.connect(\"./train-clean-100.db\")\n",
    "cur = conn.cursor()\n",
    "cur.execute('''select distinct readerID, gender from data''' )\n",
    "obj = cur.fetchall()\n",
    "conn.close()\n",
    "print(obj)"
   ]
  },
  {
   "cell_type": "code",
   "execution_count": 3,
   "metadata": {},
   "outputs": [
    {
     "data": {
      "text/plain": [
       "Counter({0: 126, 1: 125})"
      ]
     },
     "execution_count": 3,
     "metadata": {},
     "output_type": "execute_result"
    }
   ],
   "source": [
    "import collections\n",
    "collections.Counter([j for i,j in obj])\n"
   ]
  },
  {
   "cell_type": "code",
   "execution_count": 4,
   "metadata": {
    "collapsed": true
   },
   "outputs": [],
   "source": [
    "gender_dict = {k:v for k,v in obj}"
   ]
  },
  {
   "cell_type": "code",
   "execution_count": 5,
   "metadata": {
    "collapsed": true
   },
   "outputs": [],
   "source": [
    "def load_wav(file_path):\n",
    "    from scipy.io.wavfile import read\n",
    "\n",
    "    wavfile = file_path\n",
    "\n",
    "    fs, data = read(wavfile)\n",
    "\n",
    "#     print(\"Sampling rate :\", fs)\n",
    "#     print(\"Sample num :\",len(data))\n",
    "    \n",
    "    return fs,data"
   ]
  },
  {
   "cell_type": "markdown",
   "metadata": {},
   "source": [
    "- sampling rate = 16000 Hz\n",
    "- 200,000点で，200,000/16,000  = 12.5 sec\n",
    "- 50 msec くらいで切りたいので，\n",
    "- 50*10^-3 * 16,000 = 800 点ずつ切ればいい？\n",
    "- 2の累乗にすると1024くらい？(0.064 sec)"
   ]
  },
  {
   "cell_type": "code",
   "execution_count": 16,
   "metadata": {
    "scrolled": true
   },
   "outputs": [
    {
     "name": "stdout",
     "output_type": "stream",
     "text": [
      "0 wav_samples/103-1240-0000.flac.wav\n",
      "1 wav_samples/1034-121119-0000.flac.wav\n",
      "2 wav_samples/1040-133433-0000.flac.wav\n",
      "3 wav_samples/1069-133699-0000.flac.wav\n",
      "4 wav_samples/1081-125237-0000.flac.wav\n",
      "5 wav_samples/1088-129236-0000.flac.wav\n",
      "6 wav_samples/1098-133695-0000.flac.wav\n",
      "7 wav_samples/1116-132847-0000.flac.wav\n",
      "8 wav_samples/118-121721-0000.flac.wav\n",
      "9 wav_samples/1183-124566-0000.flac.wav\n",
      "10 wav_samples/1235-135883-0000.flac.wav\n",
      "11 wav_samples/1246-124548-0000.flac.wav\n",
      "12 wav_samples/125-121124-0000.flac.wav\n",
      "13 wav_samples/1263-138246-0000.flac.wav\n",
      "14 wav_samples/1334-135589-0000.flac.wav\n",
      "15 wav_samples/1355-39947-0000.flac.wav\n",
      "16 wav_samples/1363-135842-0000.flac.wav\n",
      "17 wav_samples/1447-130550-0000.flac.wav\n",
      "18 wav_samples/1455-134435-0000.flac.wav\n",
      "19 wav_samples/150-126107-0000.flac.wav\n",
      "20 wav_samples/1502-122615-0000.flac.wav\n",
      "21 wav_samples/1553-140047-0000.flac.wav\n",
      "22 wav_samples/1578-140045-0000.flac.wav\n",
      "23 wav_samples/1594-135914-0000.flac.wav\n",
      "24 wav_samples/1624-142933-0000.flac.wav\n",
      "25 wav_samples/163-121908-0000.flac.wav\n",
      "26 wav_samples/1723-141149-0000.flac.wav\n",
      "27 wav_samples/1737-142396-0000.flac.wav\n",
      "28 wav_samples/1743-142912-0000.flac.wav\n",
      "29 wav_samples/1841-150351-0000.flac.wav\n",
      "30 wav_samples/1867-148436-0000.flac.wav\n",
      "31 wav_samples/1898-145702-0000.flac.wav\n",
      "32 wav_samples/19-198-0000.flac.wav\n",
      "33 wav_samples/1926-143879-0000.flac.wav\n",
      "34 wav_samples/196-122150-0000.flac.wav\n",
      "35 wav_samples/1963-142393-0000.flac.wav\n",
      "36 wav_samples/1970-10594-0000.flac.wav\n",
      "37 wav_samples/198-126831-0000.flac.wav\n",
      "38 wav_samples/1992-141719-0000.flac.wav\n",
      "39 wav_samples/200-124139-0000.flac.wav\n",
      "40 wav_samples/2002-139469-0000.flac.wav\n",
      "41 wav_samples/2007-132570-0000.flac.wav\n",
      "42 wav_samples/201-122255-0000.flac.wav\n",
      "43 wav_samples/2092-145706-0000.flac.wav\n",
      "44 wav_samples/211-122425-0000.flac.wav\n",
      "45 wav_samples/2136-5140-0000.flac.wav\n",
      "46 wav_samples/2159-179154-0000.flac.wav\n",
      "47 wav_samples/2182-150130-0000.flac.wav\n",
      "48 wav_samples/2196-170151-0000.flac.wav\n",
      "49 wav_samples/226-122538-0000.flac.wav\n",
      "50 wav_samples/2289-152253-0000.flac.wav\n",
      "51 wav_samples/229-130880-0000.flac.wav\n",
      "52 wav_samples/233-134440-0000.flac.wav\n",
      "53 wav_samples/2384-152900-0000.flac.wav\n",
      "54 wav_samples/2391-145015-0000.flac.wav\n",
      "55 wav_samples/2416-152137-0000.flac.wav\n",
      "56 wav_samples/2436-2476-0000.flac.wav\n",
      "57 wav_samples/248-130644-0000.flac.wav\n",
      "58 wav_samples/250-140277-0000.flac.wav\n",
      "59 wav_samples/2514-149482-0000.flac.wav\n",
      "60 wav_samples/2518-154825-0000.flac.wav\n",
      "61 wav_samples/254-12312-0000.flac.wav\n",
      "62 wav_samples/26-495-0000.flac.wav\n",
      "63 wav_samples/26-496-0000.flac.wav\n",
      "64 wav_samples/2691-156745-0000.flac.wav\n",
      "65 wav_samples/27-123349-0000.flac.wav\n",
      "66 wav_samples/2764-36616-0000.flac.wav\n",
      "67 wav_samples/2817-142371-0000.flac.wav\n",
      "68 wav_samples/2836-5354-0000.flac.wav\n",
      "69 wav_samples/2843-152918-0000.flac.wav\n",
      "70 wav_samples/289-121652-0000.flac.wav\n",
      "71 wav_samples/2893-139310-0000.flac.wav\n",
      "72 wav_samples/2910-131096-0000.flac.wav\n",
      "73 wav_samples/2911-12359-0000.flac.wav\n",
      "74 wav_samples/2952-407-0000.flac.wav\n",
      "75 wav_samples/298-126790-0000.flac.wav\n",
      "76 wav_samples/2989-138028-0000.flac.wav\n",
      "77 wav_samples/302-123504-0000.flac.wav\n",
      "78 wav_samples/307-127535-0000.flac.wav\n",
      "79 wav_samples/311-124404-0000.flac.wav\n",
      "80 wav_samples/3112-9554-0000.flac.wav\n",
      "(15561, 1024)\n"
     ]
    }
   ],
   "source": [
    "all_data = np.empty((0,1024), int)\n",
    "all_labels = []\n",
    "all_speakers = []\n",
    "\n",
    "cnt = 0\n",
    "for path in glob.glob(\"wav_samples/*\"):\n",
    "    fs,data = load_wav(path)\n",
    "    print(cnt,path)\n",
    "    \n",
    "    for i in range(int(data.shape[0]/1024)):\n",
    "        all_data = np.append(all_data, np.array([data[i*1024:(i+1)*1024]]), axis=0)\n",
    "\n",
    "    label = gender_dict[int(path.split(\"/\")[1].split(\"-\")[0])]\n",
    "    all_labels.extend([label]*int(data.shape[0]/1024))\n",
    "    all_speakers.extend([cnt]*int(data.shape[0]/1024))\n",
    "    \n",
    "    cnt += 1\n",
    "    if cnt > 80:\n",
    "        break\n",
    "    \n",
    "print(all_data.shape)\n",
    "all_labels = np.array(all_labels)"
   ]
  },
  {
   "cell_type": "code",
   "execution_count": 17,
   "metadata": {},
   "outputs": [
    {
     "data": {
      "text/plain": [
       "(15561, 1024)"
      ]
     },
     "execution_count": 17,
     "metadata": {},
     "output_type": "execute_result"
    }
   ],
   "source": [
    "all_data.shape"
   ]
  },
  {
   "cell_type": "code",
   "execution_count": 23,
   "metadata": {},
   "outputs": [
    {
     "data": {
      "text/plain": [
       "80"
      ]
     },
     "execution_count": 23,
     "metadata": {},
     "output_type": "execute_result"
    }
   ],
   "source": [
    "all_speakers[-1]"
   ]
  },
  {
   "cell_type": "code",
   "execution_count": 18,
   "metadata": {
    "collapsed": true
   },
   "outputs": [],
   "source": [
    "x_train = all_data[:15000]\n",
    "y_train = all_labels[:15000]\n",
    "x_test = all_data[15000:]\n",
    "y_test = all_labels[15000:]"
   ]
  },
  {
   "cell_type": "code",
   "execution_count": 24,
   "metadata": {
    "collapsed": true
   },
   "outputs": [],
   "source": [
    "import librosa\n",
    "\n",
    "# mfccs = librosa.feature.mfcc(x_train[0], sr=16000, hop_length=2048)\n",
    "\n",
    "X_train = np.array([librosa.feature.mfcc(x, sr=16000, hop_length=2048) for x in x_train])\n",
    "X_test = np.array([librosa.feature.mfcc(x,  sr=16000, hop_length=2048) for x in x_test])"
   ]
  },
  {
   "cell_type": "code",
   "execution_count": 25,
   "metadata": {
    "collapsed": true
   },
   "outputs": [],
   "source": [
    "X_train = X_train.reshape(-1,20)\n",
    "X_test = X_test.reshape(-1,20)"
   ]
  },
  {
   "cell_type": "code",
   "execution_count": 26,
   "metadata": {},
   "outputs": [
    {
     "name": "stderr",
     "output_type": "stream",
     "text": [
      "Using TensorFlow backend.\n"
     ]
    }
   ],
   "source": [
    "import keras\n",
    "from keras.models import Sequential\n",
    "from keras.layers import Dense, Dropout\n",
    "from keras.optimizers import RMSprop\n",
    "from keras.utils import np_utils\n",
    "from keras.layers import Activation\n",
    "from keras.layers import LSTM"
   ]
  },
  {
   "cell_type": "code",
   "execution_count": 27,
   "metadata": {
    "collapsed": true
   },
   "outputs": [],
   "source": [
    "Y_train = np_utils.to_categorical(y_train)\n",
    "Y_test = np_utils.to_categorical(y_test)"
   ]
  },
  {
   "cell_type": "code",
   "execution_count": 29,
   "metadata": {
    "scrolled": false
   },
   "outputs": [
    {
     "name": "stdout",
     "output_type": "stream",
     "text": [
      "_________________________________________________________________\n",
      "Layer (type)                 Output Shape              Param #   \n",
      "=================================================================\n",
      "lstm_2 (LSTM)                (1, 10)                   480       \n",
      "_________________________________________________________________\n",
      "dense_1 (Dense)              (1, 2)                    22        \n",
      "_________________________________________________________________\n",
      "activation_1 (Activation)    (1, 2)                    0         \n",
      "=================================================================\n",
      "Total params: 502\n",
      "Trainable params: 502\n",
      "Non-trainable params: 0\n",
      "_________________________________________________________________\n"
     ]
    }
   ],
   "source": [
    "num_classes = 2\n",
    "batch_size = 64\n",
    "epochs = 200\n",
    "\n",
    "# LSTM model\n",
    "model = Sequential()\n",
    "model.inputs\n",
    "model.add(LSTM(10, batch_input_shape=(1,20,1), stateful=True))\n",
    "model.add(Dense(2))\n",
    "model.add(Activation('softmax'))\n",
    "\n",
    "optimizer = RMSprop(lr=0.01)\n",
    "model.compile(loss='categorical_crossentropy', optimizer=optimizer, metrics=['accuracy'])\n",
    "model.summary()\n",
    "\n",
    "# フィッティング(学習)\n",
    "# history = model.fit(X_train, Y_train,\n",
    "#                     batch_size=batch_size,\n",
    "#                     epochs=epochs,\n",
    "#                     verbose=1,\n",
    "#                     validation_data=(X_test, Y_test))\n",
    "\n",
    "# # スコア計算・表示\n",
    "# score = model.evaluate(X_test, Y_test, verbose=1)\n",
    "# print('Test loss:', score[0])\n",
    "# print('Test accuracy:', score[1])"
   ]
  },
  {
   "cell_type": "code",
   "execution_count": 32,
   "metadata": {},
   "outputs": [
    {
     "name": "stdout",
     "output_type": "stream",
     "text": [
      "Train...\n",
      "0\n",
      "1000\n",
      "2000\n",
      "3000\n",
      "4000\n",
      "5000\n",
      "6000\n",
      "7000\n",
      "8000\n",
      "9000\n",
      "10000\n",
      "11000\n",
      "12000\n",
      "13000\n",
      "14000\n",
      "accuracy training = 0.5823333263397217\n",
      "loss training = 6.712549686431885\n",
      "___________________________________\n"
     ]
    }
   ],
   "source": [
    "print('Train...')\n",
    "for epoch in range(1):\n",
    "    mean_tr_acc = []\n",
    "    mean_tr_loss = []\n",
    "    \n",
    "    for i in range(len(X_train)):\n",
    "        if i%1000 == 0:\n",
    "            print(i)    \n",
    "        \n",
    "        Y_true = Y_train[i]\n",
    "        s_true = all_speakers[i]\n",
    "        \n",
    "        batch_sec_len = len(X_train[i])        \n",
    "        \n",
    "        tr_loss, tr_acc = model.train_on_batch(X_train[i].reshape(1,20,1), np.array([Y_true]))\n",
    "\n",
    "        mean_tr_acc.append(tr_acc)\n",
    "        mean_tr_loss.append(tr_loss)\n",
    "        \n",
    "        if s_true != 80:\n",
    "            if s_true != all_speakers[i+1]:\n",
    "                model.reset_states()\n",
    "\n",
    "    print('accuracy training = {}'.format(np.mean(mean_tr_acc)))\n",
    "    print('loss training = {}'.format(np.mean(mean_tr_loss)))\n",
    "    print('___________________________________')\n"
   ]
  },
  {
   "cell_type": "code",
   "execution_count": 94,
   "metadata": {},
   "outputs": [
    {
     "data": {
      "image/png": "[encoded data removed]",
      "text/plain": [
       "<matplotlib.figure.Figure at 0x122017860>"
      ]
     },
     "metadata": {},
     "output_type": "display_data"
    }
   ],
   "source": [
    "import matplotlib.pyplot as plt\n",
    "# plot results\n",
    "loss = history.history['loss']\n",
    "val_loss = history.history['val_loss']\n",
    "\n",
    "acc = history.history['acc']\n",
    "val_acc = history.history['val_acc']\n",
    "\n",
    "plt.figure(figsize=(10,10))\n",
    "plt.subplot(2,1,1)\n",
    "plt.title('Loss')\n",
    "epochs = len(loss)\n",
    "plt.plot(range(epochs), loss, marker='.', label='loss')\n",
    "plt.plot(range(epochs), val_loss, marker='.', label='val_loss')\n",
    "plt.legend(loc='best')\n",
    "plt.grid()\n",
    "plt.xlabel('epoch')\n",
    "plt.ylabel('acc')\n",
    "\n",
    "plt.subplot(2,1,2)\n",
    "plt.title('Accuracy')\n",
    "plt.plot(range(epochs), acc, marker='.', label='acc')\n",
    "plt.plot(range(epochs), val_acc, marker='.', label='val_acc')\n",
    "plt.legend(loc='best')\n",
    "plt.grid()\n",
    "plt.xlabel('epoch')\n",
    "plt.ylabel('acc')\n",
    "plt.show()\n",
    "\n",
    "# plt.savefig('rms_cifar3_50epochs.png')"
   ]
  },
  {
   "cell_type": "code",
   "execution_count": null,
   "metadata": {
    "collapsed": true
   },
   "outputs": [],
   "source": []
  }
 ],
 "metadata": {
  "kernelspec": {
   "display_name": "Python 3",
   "language": "python",
   "name": "python3"
  },
  "language_info": {
   "codemirror_mode": {
    "name": "ipython",
    "version": 3
   },
   "file_extension": ".py",
   "mimetype": "text/x-python",
   "name": "python",
   "nbconvert_exporter": "python",
   "pygments_lexer": "ipython3",
   "version": "3.6.1"
  }
 },
 "nbformat": 4,
 "nbformat_minor": 2
}
