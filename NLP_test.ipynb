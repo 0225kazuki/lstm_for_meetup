{
 "cells": [
  {
   "cell_type": "markdown",
   "metadata": {},
   "source": [
    "# NLP test"
   ]
  },
  {
   "cell_type": "code",
   "execution_count": 13,
   "metadata": {
    "collapsed": true
   },
   "outputs": [],
   "source": [
    "import sqlite3\n",
    "import matplotlib.pyplot as plt\n",
    "import pickle\n",
    "import janome\n",
    "import sklearn\n",
    "import numpy as np\n",
    "import pandas as pd\n",
    "import collections\n",
    "import sqlite3\n",
    "import re\n",
    "% matplotlib inline"
   ]
  },
  {
   "cell_type": "code",
   "execution_count": 14,
   "metadata": {},
   "outputs": [],
   "source": [
    "# DB保存\n",
    "conn = sqlite3.connect('reviews.sqlite3')\n",
    "cur = conn.cursor()\n",
    "\n",
    "cur.execute(\"select content from spams\")\n",
    "obj = cur.fetchall()\n",
    "\n",
    "conn.commit()\n",
    "conn.close()"
   ]
  },
  {
   "cell_type": "code",
   "execution_count": 24,
   "metadata": {
    "scrolled": false
   },
   "outputs": [],
   "source": [
    "# 形態素解析Mecab + neologd版\n",
    "import MeCab\n",
    "\n",
    "mecab = MeCab.Tagger ('-d /usr/local/lib/mecab/dic/mecab-ipadic-neologd')\n",
    "\n",
    "# art=\"080-3322-9382に電話かけてください\"\n",
    "res = []\n",
    "for art in obj:\n",
    "    art = art[0]\n",
    "    mecab.parse(\"\")\n",
    "    res.append((len(mecab.parse(art).split())-1)/2)"
   ]
  },
  {
   "cell_type": "code",
   "execution_count": 29,
   "metadata": {},
   "outputs": [
    {
     "data": {
      "image/png": "[encoded data removed]",
      "text/plain": [
       "<matplotlib.figure.Figure at 0x14850f978>"
      ]
     },
     "metadata": {},
     "output_type": "display_data"
    }
   ],
   "source": [
    "plt.figure()\n",
    "plt.bar(np.arange(len(res)),res)\n",
    "plt.ylim(0,200)\n",
    "plt.show()"
   ]
  },
  {
   "cell_type": "code",
   "execution_count": 31,
   "metadata": {},
   "outputs": [
    {
     "name": "stdout",
     "output_type": "stream",
     "text": [
      "31.1362605747 38.4226533099 0.0 1410.0\n"
     ]
    }
   ],
   "source": [
    "print(np.mean(np.array(res)),np.std(np.array(res)),np.min(np.array(res)),np.max(np.array(res)))"
   ]
  },
  {
   "cell_type": "code",
   "execution_count": 30,
   "metadata": {
    "collapsed": true
   },
   "outputs": [],
   "source": [
    "whitelist = \"\\n「」。、あいうえおかきくけこさしすせそたちつてとなにぬねのはひふへほまみむめもやゐゆゑよらりるれろわをんがぎぐげござじずぜぞだぢづでどばびぶべぼぱぴぷぺぽぁぃぅぇぉゃゅょっゎ\"\n",
    "whitelist = set(whitelist)"
   ]
  },
  {
   "cell_type": "code",
   "execution_count": 62,
   "metadata": {
    "scrolled": false
   },
   "outputs": [],
   "source": [
    "# # 形態素解析Mecab + neologd版\n",
    "# import MeCab\n",
    "# import jaconv\n",
    "\n",
    "# mecab = MeCab.Tagger ('-d /usr/local/lib/mecab/dic/mecab-ipadic-neologd')\n",
    "\n",
    "# all_word = []\n",
    "# for art in obj:\n",
    "#     art = art[0]\n",
    "#     mecab.parse(\"\")    \n",
    "    \n",
    "#     node = mecab.parseToNode(art)\n",
    "    \n",
    "#     while node:\n",
    "#         #単語を取得\n",
    "#         word = node.surface\n",
    "#         #品詞を取得\n",
    "#         pos = node.feature.split(\",\")\n",
    "\n",
    "#         #print(word,pos,jaconv.kata2hira(pos[-1]))\n",
    "\n",
    "#         if pos[0] != '記号':\n",
    "#             word = jaconv.kata2hira(pos[-2])\n",
    "#             if (set(word) - whitelist) == set():\n",
    "#                 all_word.append(jaconv.kata2hira(pos[-2]))\n",
    "            \n",
    "#         #次の単語に進める\n",
    "#         node = node.next\n"
   ]
  },
  {
   "cell_type": "code",
   "execution_count": 119,
   "metadata": {
    "collapsed": true
   },
   "outputs": [],
   "source": [
    "# 形態素解析Mecab + neologd版\n",
    "import MeCab\n",
    "import jaconv\n",
    "\n",
    "mecab = MeCab.Tagger ('-d /usr/local/lib/mecab/dic/mecab-ipadic-neologd')\n",
    "\n",
    "all_data = []\n",
    "for art in obj[:5000]:\n",
    "    art = art[0]\n",
    "    mecab.parse(\"\")    \n",
    "    \n",
    "    node = mecab.parseToNode(art)\n",
    "    \n",
    "    tmp_data = []\n",
    "    while node:\n",
    "        #単語を取得\n",
    "        word = node.surface\n",
    "        #品詞を取得\n",
    "        pos = node.feature.split(\",\")\n",
    "\n",
    "        #print(word,pos,jaconv.kata2hira(pos[-1]))\n",
    "\n",
    "        if pos[0] != '記号':\n",
    "            word = jaconv.kata2hira(pos[-2])\n",
    "            if (set(word) - whitelist) == set():\n",
    "                tmp_data.append(jaconv.kata2hira(pos[-2]))\n",
    "            \n",
    "        #次の単語に進める\n",
    "        node = node.next\n",
    "    all_data.append(tmp_data)"
   ]
  },
  {
   "cell_type": "code",
   "execution_count": 180,
   "metadata": {},
   "outputs": [],
   "source": [
    "all_word = []\n",
    "for s in all_data:\n",
    "    all_word.extend(s)\n",
    "    \n",
    "# 全単語ベクトル\n",
    "word_id_dict = {k:v for v,k in enumerate(list(set(all_word)))}\n",
    "id_word_dict = {k:v for v,k in word_id_dict.items()}\n",
    "word_num = len(word_id_dict)\n",
    "\n",
    "with open(\"corpus.txt\",\"w\") as f:\n",
    "    for i in all_word:\n",
    "        f.write(i+\" \")\n",
    "\n",
    "# word2vec\n",
    "from gensim.models import word2vec\n",
    "\n",
    "sentences = word2vec.Text8Corpus('corpus.txt')\n",
    "# data = word2vec.Text8Corpus()\n",
    "# model = word2vec.Word2Vec(sentences, size=200)\n",
    "\n",
    "model = word2vec.Word2Vec(sentences,\n",
    "                          sg=1,\n",
    "                          size=100,\n",
    "                          min_count=1,\n",
    "                          window=10,\n",
    "                          hs=1,\n",
    "                          negative=0)\n"
   ]
  },
  {
   "cell_type": "code",
   "execution_count": 178,
   "metadata": {},
   "outputs": [
    {
     "name": "stdout",
     "output_type": "stream",
     "text": [
      "みんしん\n"
     ]
    }
   ],
   "source": [
    "print(all_word[1])"
   ]
  },
  {
   "cell_type": "code",
   "execution_count": 179,
   "metadata": {},
   "outputs": [
    {
     "data": {
      "text/plain": [
       "array([-0.06270535,  0.05742932, -0.18660608,  0.08661562, -0.03349836,\n",
       "       -0.17218903, -0.17439428,  0.16034184,  0.0748358 , -0.00934489,\n",
       "       -0.07770372, -0.05576156,  0.05544303, -0.11310041,  0.03485117,\n",
       "        0.06962713,  0.03963358, -0.19240229, -0.06706159, -0.07378142,\n",
       "       -0.09940714, -0.16995445,  0.07002343,  0.01135876,  0.00695495,\n",
       "       -0.01796231,  0.02756656, -0.02378875,  0.05158627,  0.01075506,\n",
       "        0.08605603, -0.01648081, -0.12147248, -0.05820456, -0.03798171,\n",
       "        0.08780378, -0.04778417,  0.01342857, -0.03400591, -0.0328886 ,\n",
       "       -0.00632148, -0.11414722,  0.14017501, -0.08616932,  0.00798782,\n",
       "       -0.13047653, -0.02349295, -0.08817768, -0.01068511,  0.04443356,\n",
       "        0.10761057,  0.25305647,  0.12275232,  0.00821608, -0.1350119 ,\n",
       "       -0.0314321 ,  0.01636938,  0.03131957,  0.07892325, -0.01130211,\n",
       "        0.06968971,  0.16006562,  0.01543447, -0.00317911,  0.09200123,\n",
       "       -0.1197762 , -0.07383221,  0.10751411, -0.05572353,  0.05538723,\n",
       "        0.11972875,  0.0464976 , -0.11199795,  0.09761159, -0.00728019,\n",
       "        0.04762357, -0.01003143, -0.17328793, -0.18048175, -0.07798973,\n",
       "       -0.01334149,  0.00679652, -0.0976472 , -0.1763235 ,  0.00563513,\n",
       "        0.13861273,  0.02106145,  0.03764382,  0.02069708,  0.04733202,\n",
       "       -0.0099549 ,  0.23559915,  0.04068844, -0.00074869, -0.11926991,\n",
       "       -0.06734937,  0.19346318, -0.01437036,  0.21084236, -0.07373656], dtype=float32)"
      ]
     },
     "execution_count": 179,
     "metadata": {},
     "output_type": "execute_result"
    }
   ],
   "source": [
    "model['みんしん']"
   ]
  },
  {
   "cell_type": "code",
   "execution_count": 183,
   "metadata": {},
   "outputs": [],
   "source": [
    "x_data = []\n",
    "y_data = []\n",
    "for s in all_data:\n",
    "    s_len = len(s)\n",
    "    if s_len < 4:\n",
    "        continue\n",
    "    trigram = []\n",
    "    next_word = []\n",
    "    for i in range(s_len - 4):\n",
    "        trigram.append(s[i:i+3])\n",
    "        next_word.append(word_id_dict[s[i+3]])\n",
    "    x_data.extend([[model[y] for y in x] for x in trigram])\n",
    "    y_data.extend(next_word)\n",
    "x_data = np.array(x_data)\n",
    "y_data = np.array(y_data)"
   ]
  },
  {
   "cell_type": "code",
   "execution_count": 184,
   "metadata": {},
   "outputs": [
    {
     "name": "stdout",
     "output_type": "stream",
     "text": [
      "(88604, 3, 100)\n",
      "(88604,)\n",
      "8760\n"
     ]
    }
   ],
   "source": [
    "print(np.array(x_data).shape)\n",
    "print(np.array(y_data).shape)\n",
    "print(len(word_id_dict))"
   ]
  },
  {
   "cell_type": "code",
   "execution_count": 186,
   "metadata": {},
   "outputs": [
    {
     "name": "stdout",
     "output_type": "stream",
     "text": [
      "(88604, 8760)\n",
      "(88604, 3, 100)\n"
     ]
    }
   ],
   "source": [
    "# x_train = x_data[:10000].reshape(10000,3,1)\n",
    "# y_train = y_data[:10000]\n",
    "# x_test = x_data[10000:12000].reshape(2000,3,1)\n",
    "# y_test = y_data[10000:12000]\n",
    "\n",
    "x_train = np.array(x_data)\n",
    "\n",
    "y_train = y_data\n",
    "\n",
    "from keras.utils import np_utils\n",
    "\n",
    "nb_classes = len(word_id_dict)\n",
    "\n",
    "# x_train = np_utils.to_categorical(y_train, nb_classes)\n",
    "# x_test = np_utils.to_categorical(y_test, nb_classes)\n",
    "\n",
    "Y_train = np_utils.to_categorical(y_train, nb_classes)\n",
    "# Y_test = np_utils.to_categorical(y_test, nb_classes)\n",
    "print(Y_train.shape)\n",
    "print(x_train.shape)\n"
   ]
  },
  {
   "cell_type": "code",
   "execution_count": 139,
   "metadata": {},
   "outputs": [
    {
     "name": "stdout",
     "output_type": "stream",
     "text": [
      "(88604, 3)\n",
      "(88604, 3, 1)\n"
     ]
    }
   ],
   "source": [
    "print(x_data.shape)\n",
    "x_train = x_data.reshape(x_data.shape[0],3,1)\n",
    "print(x_train.shape)"
   ]
  },
  {
   "cell_type": "code",
   "execution_count": 188,
   "metadata": {},
   "outputs": [
    {
     "name": "stdout",
     "output_type": "stream",
     "text": [
      "_________________________________________________________________\n",
      "Layer (type)                 Output Shape              Param #   \n",
      "=================================================================\n",
      "lstm_9 (LSTM)                (None, 128)               117248    \n",
      "_________________________________________________________________\n",
      "dense_8 (Dense)              (None, 8760)              1130040   \n",
      "_________________________________________________________________\n",
      "activation_8 (Activation)    (None, 8760)              0         \n",
      "=================================================================\n",
      "Total params: 1,247,288\n",
      "Trainable params: 1,247,288\n",
      "Non-trainable params: 0\n",
      "_________________________________________________________________\n"
     ]
    }
   ],
   "source": [
    "from keras.models import Sequential\n",
    "from keras.layers import Dense, Activation\n",
    "from keras.layers import LSTM\n",
    "from keras.optimizers import RMSprop\n",
    "\n",
    "model = Sequential()\n",
    "model.add(LSTM(128, input_shape=( 3, 100)))\n",
    "model.add(Dense(word_num))\n",
    "model.add(Activation('softmax'))\n",
    "\n",
    "optimizer = RMSprop(lr=0.01)\n",
    "model.compile(loss='categorical_crossentropy', optimizer=optimizer, metrics=['accuracy'])\n",
    "model.summary()"
   ]
  },
  {
   "cell_type": "code",
   "execution_count": null,
   "metadata": {},
   "outputs": [
    {
     "name": "stdout",
     "output_type": "stream",
     "text": [
      "Epoch 1/5\n",
      "87040/88604 [============================>.] - ETA: 2s - loss: 6.3679 - acc: 0.0636"
     ]
    }
   ],
   "source": [
    "history = model.fit(x_train, Y_train, batch_size=1024, epochs=5)"
   ]
  },
  {
   "cell_type": "code",
   "execution_count": 147,
   "metadata": {},
   "outputs": [
    {
     "data": {
      "image/png": "[encoded data removed]",
      "text/plain": [
       "<matplotlib.figure.Figure at 0x11a213da0>"
      ]
     },
     "metadata": {},
     "output_type": "display_data"
    }
   ],
   "source": [
    "# 学習の様子をプロット\n",
    "loss = history.history['loss']\n",
    "# val_loss = history.history['val_loss']\n",
    "\n",
    "acc = history.history['acc']\n",
    "# val_acc = history.history['val_acc']\n",
    "\n",
    "plt.figure(figsize=(10,10))\n",
    "plt.subplot(2,1,1)\n",
    "plt.title('Loss')\n",
    "epochs = len(loss)\n",
    "plt.plot(range(epochs), loss, marker='.', label='loss')\n",
    "# plt.plot(range(epochs), val_loss, marker='.', label='val_loss')\n",
    "plt.legend(loc='best')\n",
    "plt.grid()\n",
    "plt.xlabel('epoch')\n",
    "plt.ylabel('acc')\n",
    "\n",
    "plt.subplot(2,1,2)\n",
    "plt.title('Accuracy')\n",
    "plt.plot(range(epochs), acc, marker='.', label='acc')\n",
    "# plt.plot(range(epochs), val_acc, marker='.', label='val_acc')\n",
    "plt.legend(loc='best')\n",
    "plt.grid()\n",
    "plt.xlabel('epoch')\n",
    "plt.ylabel('acc')\n",
    "plt.show()"
   ]
  },
  {
   "cell_type": "code",
   "execution_count": null,
   "metadata": {
    "collapsed": true
   },
   "outputs": [],
   "source": []
  }
 ],
 "metadata": {
  "kernelspec": {
   "display_name": "Python 3",
   "language": "python",
   "name": "python3"
  },
  "language_info": {
   "codemirror_mode": {
    "name": "ipython",
    "version": 3
   },
   "file_extension": ".py",
   "mimetype": "text/x-python",
   "name": "python",
   "nbconvert_exporter": "python",
   "pygments_lexer": "ipython3",
   "version": "3.6.1"
  }
 },
 "nbformat": 4,
 "nbformat_minor": 2
}
