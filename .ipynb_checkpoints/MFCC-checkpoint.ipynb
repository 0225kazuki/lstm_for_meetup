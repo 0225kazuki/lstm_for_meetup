{
 "cells": [
  {
   "cell_type": "markdown",
   "metadata": {},
   "source": [
    "# LSTM test / speaker prediction"
   ]
  },
  {
   "cell_type": "code",
   "execution_count": 7,
   "metadata": {
    "scrolled": true
   },
   "outputs": [
    {
     "name": "stdout",
     "output_type": "stream",
     "text": [
      "[(103, 1), (1034, 0), (1040, 0), (1069, 1), (1081, 0), (1088, 1), (1098, 1), (1116, 1), (118, 0), (1183, 1), (1235, 0), (1246, 1), (125, 1), (1263, 1), (1334, 0), (1355, 0), (1363, 1), (1447, 1), (1455, 0), (150, 1), (1502, 1), (1553, 1), (1578, 1), (1594, 0), (1624, 0), (163, 0), (1723, 0), (1737, 1), (1743, 0), (1841, 1), (1867, 0), (1898, 1), (19, 1), (1926, 1), (196, 0), (1963, 1), (1970, 1), (198, 1), (1992, 1), (200, 1), (2002, 0), (2007, 1), (201, 0), (2092, 1), (211, 1), (2136, 0), (2159, 0), (2182, 1), (2196, 1), (226, 1), (2289, 0), (229, 0), (233, 0), (2384, 0), (2391, 1), (2416, 1), (2436, 0), (248, 1), (250, 1), (2514, 0), (2518, 0), (254, 0), (26, 0), (2691, 1), (27, 0), (2764, 1), (2817, 1), (2836, 1), (2843, 0), (289, 1), (2893, 0), (2910, 1), (2911, 0), (2952, 0), (298, 1), (2989, 1), (302, 1), (307, 0), (311, 0), (3112, 1), (3168, 0), (32, 1), (3214, 0), (322, 1), (3235, 1), (3240, 0), (3242, 0), (3259, 1), (328, 1), (332, 0), (3374, 0), (3436, 0), (3440, 1), (3486, 0), (3526, 1), (3607, 0), (3664, 0), (3699, 0), (3723, 0), (374, 0), (3807, 0), (3830, 0), (3857, 0), (3879, 1), (39, 1), (3947, 1), (3982, 1), (3983, 1), (40, 1), (4014, 0), (4018, 0), (403, 1), (405, 0), (4051, 1), (4088, 1), (412, 0), (4137, 1), (4160, 1), (4195, 1), (4214, 1), (426, 1), (4267, 0), (4297, 1), (4340, 1), (4362, 1), (4397, 0), (4406, 0), (441, 1), (4441, 0), (445, 0), (446, 0), (4481, 1), (458, 0), (460, 0), (4640, 1), (4680, 1), (4788, 0), (481, 0), (4813, 0), (4830, 0), (4853, 1), (4859, 0), (4898, 0), (5022, 1), (5049, 0), (5104, 0), (5163, 1), (5192, 0), (5322, 0), (5339, 1), (5390, 0), (5393, 1), (5456, 0), (5463, 0), (5514, 1), (5561, 1), (5652, 1), (5678, 0), (5688, 1), (5703, 0), (5750, 0), (5778, 1), (5789, 1), (5808, 0), (5867, 1), (587, 1), (60, 0), (6000, 1), (6019, 0), (6064, 1), (6078, 1), (6081, 0), (6147, 1), (6181, 0), (6209, 0), (625, 0), (6272, 1), (6367, 0), (6385, 1), (6415, 1), (6437, 0), (6454, 0), (6476, 1), (6529, 0), (6531, 1), (6563, 0), (669, 1), (6818, 1), (6836, 0), (6848, 0), (6880, 0), (6925, 0), (696, 1), (7059, 1), (7067, 0), (7078, 1), (7113, 1), (7148, 1), (7178, 1), (7190, 0), (7226, 0), (7264, 0), (7278, 0), (730, 1), (7302, 1), (7312, 0), (7367, 0), (7402, 0), (7447, 0), (7505, 0), (7511, 1), (7517, 1), (7635, 1), (7780, 1), (7794, 1), (78, 0), (7800, 1), (7859, 1), (8014, 1), (8051, 1), (8063, 0), (8088, 0), (8095, 0), (8098, 0), (8108, 0), (8123, 1), (8226, 0), (8238, 1), (83, 1), (831, 0), (8312, 1), (8324, 1), (839, 0), (8419, 0), (8425, 0), (8465, 1), (8468, 1), (8580, 0), (8609, 0), (8629, 0), (8630, 0), (87, 1), (8747, 0), (8770, 0), (8797, 0), (8838, 0), (887, 1), (89, 1), (8975, 1), (909, 0), (911, 0)]\n"
     ]
    }
   ],
   "source": [
    "import sqlite3\n",
    "\n",
    "\n",
    "conn = sqlite3.connect(\"./LibriSpeech/train-clean-100.db\")\n",
    "cur = conn.cursor()\n",
    "cur.execute('''select distinct readerID, gender from data''' )\n",
    "obj = cur.fetchall()\n",
    "conn.close()\n",
    "print(obj)"
   ]
  },
  {
   "cell_type": "code",
   "execution_count": 10,
   "metadata": {},
   "outputs": [
    {
     "data": {
      "text/plain": [
       "Counter({0: 126, 1: 125})"
      ]
     },
     "execution_count": 10,
     "metadata": {},
     "output_type": "execute_result"
    }
   ],
   "source": [
    "import collections\n",
    "collections.Counter([j for i,j in obj])\n"
   ]
  },
  {
   "cell_type": "code",
   "execution_count": 23,
   "metadata": {
    "collapsed": true
   },
   "outputs": [],
   "source": [
    "gender_dict = {k:v for k,v in obj}"
   ]
  },
  {
   "cell_type": "code",
   "execution_count": 22,
   "metadata": {},
   "outputs": [
    {
     "name": "stdout",
     "output_type": "stream",
     "text": [
      "./LibriSpeech/train-clean-100/103/1240\n",
      "./LibriSpeech/train-clean-100/1034/121119\n",
      "./LibriSpeech/train-clean-100/1040/133433\n",
      "./LibriSpeech/train-clean-100/1069/133699\n",
      "./LibriSpeech/train-clean-100/1081/125237\n",
      "./LibriSpeech/train-clean-100/1088/129236\n",
      "./LibriSpeech/train-clean-100/1098/133695\n",
      "./LibriSpeech/train-clean-100/1116/132847\n",
      "./LibriSpeech/train-clean-100/118/121721\n",
      "./LibriSpeech/train-clean-100/1183/124566\n",
      "./LibriSpeech/train-clean-100/1235/135883\n",
      "./LibriSpeech/train-clean-100/1246/124548\n",
      "./LibriSpeech/train-clean-100/125/121124\n",
      "./LibriSpeech/train-clean-100/1263/138246\n",
      "./LibriSpeech/train-clean-100/1334/135589\n",
      "./LibriSpeech/train-clean-100/1355/39947\n",
      "./LibriSpeech/train-clean-100/1363/135842\n",
      "./LibriSpeech/train-clean-100/1447/130550\n",
      "./LibriSpeech/train-clean-100/1455/134435\n",
      "./LibriSpeech/train-clean-100/150/126107\n",
      "./LibriSpeech/train-clean-100/1502/122615\n",
      "./LibriSpeech/train-clean-100/1553/140047\n",
      "./LibriSpeech/train-clean-100/1578/140045\n",
      "./LibriSpeech/train-clean-100/1594/135914\n",
      "./LibriSpeech/train-clean-100/1624/142933\n",
      "./LibriSpeech/train-clean-100/163/121908\n",
      "./LibriSpeech/train-clean-100/1723/141149\n",
      "./LibriSpeech/train-clean-100/1737/142396\n",
      "./LibriSpeech/train-clean-100/1743/142912\n",
      "./LibriSpeech/train-clean-100/1841/150351\n",
      "./LibriSpeech/train-clean-100/1867/148436\n",
      "./LibriSpeech/train-clean-100/1898/145702\n",
      "./LibriSpeech/train-clean-100/19/198\n",
      "./LibriSpeech/train-clean-100/1926/143879\n",
      "./LibriSpeech/train-clean-100/196/122150\n",
      "./LibriSpeech/train-clean-100/1963/142393\n",
      "./LibriSpeech/train-clean-100/1970/10594\n",
      "./LibriSpeech/train-clean-100/198/126831\n",
      "./LibriSpeech/train-clean-100/1992/141719\n",
      "./LibriSpeech/train-clean-100/200/124139\n",
      "./LibriSpeech/train-clean-100/2002/139469\n",
      "./LibriSpeech/train-clean-100/2007/132570\n",
      "./LibriSpeech/train-clean-100/201/122255\n",
      "./LibriSpeech/train-clean-100/2092/145706\n",
      "./LibriSpeech/train-clean-100/211/122425\n",
      "./LibriSpeech/train-clean-100/2136/5140\n",
      "./LibriSpeech/train-clean-100/2159/179154\n",
      "./LibriSpeech/train-clean-100/2182/150130\n",
      "./LibriSpeech/train-clean-100/2196/170151\n",
      "./LibriSpeech/train-clean-100/226/122538\n",
      "./LibriSpeech/train-clean-100/2289/152253\n",
      "./LibriSpeech/train-clean-100/229/130880\n",
      "./LibriSpeech/train-clean-100/233/134440\n",
      "./LibriSpeech/train-clean-100/2384/152900\n",
      "./LibriSpeech/train-clean-100/2391/145015\n",
      "./LibriSpeech/train-clean-100/2416/152137\n",
      "./LibriSpeech/train-clean-100/2436/2476\n",
      "./LibriSpeech/train-clean-100/248/130644\n",
      "./LibriSpeech/train-clean-100/250/140277\n",
      "./LibriSpeech/train-clean-100/2514/149482\n",
      "./LibriSpeech/train-clean-100/2518/154825\n",
      "./LibriSpeech/train-clean-100/254/12312\n",
      "./LibriSpeech/train-clean-100/26/495\n",
      "./LibriSpeech/train-clean-100/2691/156745\n",
      "./LibriSpeech/train-clean-100/27/123349\n",
      "./LibriSpeech/train-clean-100/2764/36616\n",
      "./LibriSpeech/train-clean-100/2817/142371\n",
      "./LibriSpeech/train-clean-100/2836/5354\n",
      "./LibriSpeech/train-clean-100/2843/152918\n",
      "./LibriSpeech/train-clean-100/289/121652\n",
      "./LibriSpeech/train-clean-100/2893/139310\n",
      "./LibriSpeech/train-clean-100/2910/131096\n",
      "./LibriSpeech/train-clean-100/2911/12359\n",
      "./LibriSpeech/train-clean-100/2952/407\n",
      "./LibriSpeech/train-clean-100/298/126790\n",
      "./LibriSpeech/train-clean-100/2989/138028\n",
      "./LibriSpeech/train-clean-100/302/123504\n",
      "./LibriSpeech/train-clean-100/307/127535\n",
      "./LibriSpeech/train-clean-100/311/124404\n",
      "./LibriSpeech/train-clean-100/3112/9554\n",
      "./LibriSpeech/train-clean-100/3168/173564\n",
      "./LibriSpeech/train-clean-100/32/21625\n",
      "./LibriSpeech/train-clean-100/3214/167602\n",
      "./LibriSpeech/train-clean-100/322/124146\n",
      "./LibriSpeech/train-clean-100/3235/11599\n",
      "./LibriSpeech/train-clean-100/3240/131231\n",
      "./LibriSpeech/train-clean-100/3242/67153\n",
      "./LibriSpeech/train-clean-100/3259/158083\n",
      "./LibriSpeech/train-clean-100/328/129766\n",
      "./LibriSpeech/train-clean-100/332/128985\n",
      "./LibriSpeech/train-clean-100/3374/298025\n",
      "./LibriSpeech/train-clean-100/3436/172162\n",
      "./LibriSpeech/train-clean-100/3440/171006\n",
      "./LibriSpeech/train-clean-100/3486/166424\n",
      "./LibriSpeech/train-clean-100/3526/175658\n",
      "./LibriSpeech/train-clean-100/3607/135982\n",
      "./LibriSpeech/train-clean-100/3664/11714\n",
      "./LibriSpeech/train-clean-100/3699/175950\n",
      "./LibriSpeech/train-clean-100/3723/171115\n",
      "./LibriSpeech/train-clean-100/374/180298\n",
      "./LibriSpeech/train-clean-100/3807/4923\n",
      "./LibriSpeech/train-clean-100/3830/12529\n",
      "./LibriSpeech/train-clean-100/3857/180923\n",
      "./LibriSpeech/train-clean-100/3879/173592\n",
      "./LibriSpeech/train-clean-100/39/121914\n",
      "./LibriSpeech/train-clean-100/3947/13260\n",
      "./LibriSpeech/train-clean-100/3982/178459\n",
      "./LibriSpeech/train-clean-100/3983/5331\n",
      "./LibriSpeech/train-clean-100/40/121026\n",
      "./LibriSpeech/train-clean-100/4014/186175\n",
      "./LibriSpeech/train-clean-100/4018/103416\n",
      "./LibriSpeech/train-clean-100/403/126855\n",
      "./LibriSpeech/train-clean-100/405/130894\n",
      "./LibriSpeech/train-clean-100/4051/10927\n",
      "./LibriSpeech/train-clean-100/4088/158077\n",
      "./LibriSpeech/train-clean-100/412/126975\n",
      "./LibriSpeech/train-clean-100/4137/11701\n",
      "./LibriSpeech/train-clean-100/4160/11549\n",
      "./LibriSpeech/train-clean-100/4195/17507\n",
      "./LibriSpeech/train-clean-100/4214/7146\n",
      "./LibriSpeech/train-clean-100/426/122819\n",
      "./LibriSpeech/train-clean-100/4267/287369\n",
      "./LibriSpeech/train-clean-100/4297/13006\n",
      "./LibriSpeech/train-clean-100/4340/15220\n",
      "./LibriSpeech/train-clean-100/4362/15663\n",
      "./LibriSpeech/train-clean-100/4397/15666\n",
      "./LibriSpeech/train-clean-100/4406/16882\n",
      "./LibriSpeech/train-clean-100/441/128982\n",
      "./LibriSpeech/train-clean-100/4441/76250\n",
      "./LibriSpeech/train-clean-100/445/123857\n",
      "./LibriSpeech/train-clean-100/446/123501\n",
      "./LibriSpeech/train-clean-100/4481/17498\n",
      "./LibriSpeech/train-clean-100/458/126290\n",
      "./LibriSpeech/train-clean-100/460/172357\n",
      "./LibriSpeech/train-clean-100/4640/19187\n",
      "./LibriSpeech/train-clean-100/4680/16026\n",
      "./LibriSpeech/train-clean-100/4788/294466\n",
      "./LibriSpeech/train-clean-100/481/123719\n",
      "./LibriSpeech/train-clean-100/4813/248638\n",
      "./LibriSpeech/train-clean-100/4830/25898\n",
      "./LibriSpeech/train-clean-100/4853/27670\n",
      "./LibriSpeech/train-clean-100/4859/22176\n",
      "./LibriSpeech/train-clean-100/4898/20016\n",
      "./LibriSpeech/train-clean-100/5022/29405\n",
      "./LibriSpeech/train-clean-100/5049/25947\n",
      "./LibriSpeech/train-clean-100/5104/33406\n",
      "./LibriSpeech/train-clean-100/5163/18515\n",
      "./LibriSpeech/train-clean-100/5192/19396\n",
      "./LibriSpeech/train-clean-100/5322/7678\n",
      "./LibriSpeech/train-clean-100/5339/14133\n",
      "./LibriSpeech/train-clean-100/5390/24512\n",
      "./LibriSpeech/train-clean-100/5393/19218\n",
      "./LibriSpeech/train-clean-100/5456/24741\n",
      "./LibriSpeech/train-clean-100/5463/39173\n",
      "./LibriSpeech/train-clean-100/5514/19192\n",
      "./LibriSpeech/train-clean-100/5561/39621\n",
      "./LibriSpeech/train-clean-100/5652/19215\n",
      "./LibriSpeech/train-clean-100/5678/43301\n",
      "./LibriSpeech/train-clean-100/5688/15787\n",
      "./LibriSpeech/train-clean-100/5703/47198\n",
      "./LibriSpeech/train-clean-100/5750/100289\n",
      "./LibriSpeech/train-clean-100/5778/12761\n",
      "./LibriSpeech/train-clean-100/5789/57158\n",
      "./LibriSpeech/train-clean-100/5808/48608\n",
      "./LibriSpeech/train-clean-100/5867/48852\n",
      "./LibriSpeech/train-clean-100/587/41611\n",
      "./LibriSpeech/train-clean-100/60/121082\n",
      "./LibriSpeech/train-clean-100/6000/55211\n",
      "./LibriSpeech/train-clean-100/6019/3185\n",
      "./LibriSpeech/train-clean-100/6064/300880\n",
      "./LibriSpeech/train-clean-100/6078/54007\n",
      "./LibriSpeech/train-clean-100/6081/41997\n",
      "./LibriSpeech/train-clean-100/6147/34605\n",
      "./LibriSpeech/train-clean-100/6181/216552\n",
      "./LibriSpeech/train-clean-100/6209/34599\n",
      "./LibriSpeech/train-clean-100/625/132112\n",
      "./LibriSpeech/train-clean-100/6272/70168\n",
      "./LibriSpeech/train-clean-100/6367/65536\n",
      "./LibriSpeech/train-clean-100/6385/220959\n",
      "./LibriSpeech/train-clean-100/6415/100596\n",
      "./LibriSpeech/train-clean-100/6437/66172\n",
      "./LibriSpeech/train-clean-100/6454/107462\n",
      "./LibriSpeech/train-clean-100/6476/57446\n",
      "./LibriSpeech/train-clean-100/6529/62554\n",
      "./LibriSpeech/train-clean-100/6531/61334\n",
      "./LibriSpeech/train-clean-100/6563/285357\n",
      "./LibriSpeech/train-clean-100/669/129061\n",
      "./LibriSpeech/train-clean-100/6818/68772\n",
      "./LibriSpeech/train-clean-100/6836/61803\n",
      "./LibriSpeech/train-clean-100/6848/252322\n",
      "./LibriSpeech/train-clean-100/6880/216547\n",
      "./LibriSpeech/train-clean-100/6925/80680\n",
      "./LibriSpeech/train-clean-100/696/92939\n",
      "./LibriSpeech/train-clean-100/7059/77897\n",
      "./LibriSpeech/train-clean-100/7067/76047\n",
      "./LibriSpeech/train-clean-100/7078/271888\n",
      "./LibriSpeech/train-clean-100/7113/86041\n",
      "./LibriSpeech/train-clean-100/7148/59157\n",
      "./LibriSpeech/train-clean-100/7178/34644\n",
      "./LibriSpeech/train-clean-100/7190/90542\n",
      "./LibriSpeech/train-clean-100/7226/86964\n",
      "./LibriSpeech/train-clean-100/7264/92310\n",
      "./LibriSpeech/train-clean-100/7278/104730\n"
     ]
    },
    {
     "name": "stdout",
     "output_type": "stream",
     "text": [
      "./LibriSpeech/train-clean-100/730/358\n",
      "./LibriSpeech/train-clean-100/7302/86814\n",
      "./LibriSpeech/train-clean-100/7312/92432\n",
      "./LibriSpeech/train-clean-100/7367/86737\n",
      "./LibriSpeech/train-clean-100/7402/59171\n",
      "./LibriSpeech/train-clean-100/7447/91186\n",
      "./LibriSpeech/train-clean-100/7505/258958\n",
      "./LibriSpeech/train-clean-100/7511/102419\n",
      "./LibriSpeech/train-clean-100/7517/100429\n",
      "./LibriSpeech/train-clean-100/7635/105409\n",
      "./LibriSpeech/train-clean-100/7780/274562\n",
      "./LibriSpeech/train-clean-100/7794/295947\n",
      "./LibriSpeech/train-clean-100/78/368\n",
      "./LibriSpeech/train-clean-100/7800/283478\n",
      "./LibriSpeech/train-clean-100/7859/102518\n",
      "./LibriSpeech/train-clean-100/8014/112586\n",
      "./LibriSpeech/train-clean-100/8051/118101\n",
      "./LibriSpeech/train-clean-100/8063/274112\n",
      "./LibriSpeech/train-clean-100/8088/284756\n",
      "./LibriSpeech/train-clean-100/8095/274345\n",
      "./LibriSpeech/train-clean-100/8098/275181\n",
      "./LibriSpeech/train-clean-100/8108/274318\n",
      "./LibriSpeech/train-clean-100/8123/275193\n",
      "./LibriSpeech/train-clean-100/8226/274369\n",
      "./LibriSpeech/train-clean-100/8238/274553\n",
      "./LibriSpeech/train-clean-100/83/11691\n",
      "./LibriSpeech/train-clean-100/831/130739\n",
      "./LibriSpeech/train-clean-100/8312/279790\n",
      "./LibriSpeech/train-clean-100/8324/286681\n",
      "./LibriSpeech/train-clean-100/839/130898\n",
      "./LibriSpeech/train-clean-100/8419/286667\n",
      "./LibriSpeech/train-clean-100/8425/246962\n",
      "./LibriSpeech/train-clean-100/8465/246940\n",
      "./LibriSpeech/train-clean-100/8468/286673\n",
      "./LibriSpeech/train-clean-100/8580/287363\n",
      "./LibriSpeech/train-clean-100/8609/262281\n",
      "./LibriSpeech/train-clean-100/8629/261139\n",
      "./LibriSpeech/train-clean-100/8630/305212\n",
      "./LibriSpeech/train-clean-100/87/121553\n",
      "./LibriSpeech/train-clean-100/8747/293952\n",
      "./LibriSpeech/train-clean-100/8770/295462\n",
      "./LibriSpeech/train-clean-100/8797/294123\n",
      "./LibriSpeech/train-clean-100/8838/298545\n",
      "./LibriSpeech/train-clean-100/887/123289\n",
      "./LibriSpeech/train-clean-100/89/218\n",
      "./LibriSpeech/train-clean-100/8975/270782\n",
      "./LibriSpeech/train-clean-100/909/131041\n",
      "./LibriSpeech/train-clean-100/911/128684\n"
     ]
    }
   ],
   "source": [
    "import glob\n",
    "import subprocess\n",
    "import sys\n",
    "\n",
    "readerIDs = [x[0] for x in obj]\n",
    "for readerID in readerIDs:\n",
    "    for i in glob.glob(\"./LibriSpeech/train-clean-100/{}/*\".format(readerID)):\n",
    "        print(i)\n",
    "        for flac_path in glob.glob(\"./LibriSpeech/train-clean-100/{0}/{1}/*\".format(readerID, i.split(\"/\")[-1])):\n",
    "            res = subprocess.run([\"ffmpeg\", \"-i\", flac_path, \"./\"+flac_path.split('/')[-1]+\".wav\"], stdout=subprocess.PIPE)\n",
    "            break\n",
    "        break\n"
   ]
  },
  {
   "cell_type": "code",
   "execution_count": 43,
   "metadata": {
    "collapsed": true
   },
   "outputs": [],
   "source": [
    "def load_wav(file_path):\n",
    "    from scipy.io.wavfile import read\n",
    "\n",
    "    wavfile = file_path\n",
    "\n",
    "    fs, data = read(wavfile)\n",
    "\n",
    "#     print(\"Sampling rate :\", fs)\n",
    "#     print(\"Sample num :\",len(data))\n",
    "    \n",
    "    return fs,data"
   ]
  },
  {
   "cell_type": "code",
   "execution_count": 48,
   "metadata": {
    "scrolled": false
   },
   "outputs": [
    {
     "name": "stdout",
     "output_type": "stream",
     "text": [
      "[[ -213  -181  -203 ...,   610   482   326]\n",
      " [  563   573   581 ...,  1779  1603  1558]\n",
      " [   -8    -3     5 ...,  1381  1308  1443]\n",
      " ..., \n",
      " [  -14    -7   -20 ...,  1735 -1020    33]\n",
      " [  -41   -25    -8 ...,  6018  6188  6315]\n",
      " [   17    17    -1 ...,  -206  -238  -261]]\n",
      "[1, 0, 0, 1, 0, 1, 1, 1, 0, 1, 0, 1, 1, 1, 0, 0, 1, 1, 0, 1, 1, 1, 1, 0, 0, 0, 0, 1, 0, 1, 0, 1, 1, 1, 0, 1, 1, 1, 1, 1, 0, 1, 0, 1, 1, 0, 0, 1, 1, 1, 0, 0, 0, 0, 1, 1, 0, 1, 1, 0, 0, 0, 0, 0, 1, 0, 1, 1, 1, 0, 1, 0, 1, 0, 0, 1, 1, 1, 0, 0, 1, 0, 1, 0, 1, 1, 0, 0, 1, 1, 0, 0, 0, 1, 0, 1, 0, 0, 0, 0, 0, 0, 0, 0, 1, 1, 1, 1, 1, 1, 0, 0, 1, 0, 1, 1, 0, 1, 1, 1, 1, 1, 0, 1, 1, 1, 0, 0, 1, 0, 0, 0, 1, 0, 0, 1, 1, 0, 0, 0, 0, 1, 0, 0, 1, 0, 0, 1, 0, 0, 1, 0, 1, 0, 0, 1, 1, 1, 0, 1, 0, 0, 1, 1, 0, 1, 1, 0, 1, 0, 1, 1, 0, 1, 0, 0, 0, 1, 0, 1, 1, 0, 0, 1, 0, 1, 0, 1, 1, 0, 0, 0, 0, 1, 1, 0, 1, 1, 1, 1, 0, 0, 0, 0, 1, 1, 0, 0, 0, 0, 0, 1, 1, 1, 1, 1, 0, 1, 1, 1, 1, 0, 0, 0, 0, 0, 1, 0, 1, 1, 0, 1, 1, 0, 0, 0, 1, 1, 0, 0, 0, 0, 1, 0, 0, 0, 0, 1, 1, 1, 0, 0]\n"
     ]
    }
   ],
   "source": [
    "all_data = np.empty((0,10000), int)\n",
    "# all_data = []\n",
    "all_labels = []\n",
    "for path in glob.glob(\"wav_samples/*\"):\n",
    "    fs,data = load_wav(path)\n",
    "    all_data = np.append(all_data, np.array([data[:10000]]), axis=0)\n",
    "#     all_data.append(data[:10000])\n",
    "    all_labels.append(gender_dict[int(path.split(\"/\")[1].split(\"-\")[0])])\n",
    "#     print(\"gen\",gender_dict[int(path.split(\"/\")[1].split(\"-\")[0])])\n",
    "#     print(data[:10])\n",
    "\n",
    "print(all_data)\n",
    "print(all_labels)\n",
    "all_labels = np.array(all_labels)"
   ]
  },
  {
   "cell_type": "code",
   "execution_count": 53,
   "metadata": {},
   "outputs": [],
   "source": [
    "x_train = all_data[:10]\n",
    "y_train = all_labels[:10]\n",
    "x_test = all_data[100:105]\n",
    "y_test = all_labels[100:105]"
   ]
  },
  {
   "cell_type": "code",
   "execution_count": 54,
   "metadata": {},
   "outputs": [
    {
     "name": "stdout",
     "output_type": "stream",
     "text": [
      "(10, 10000)\n"
     ]
    }
   ],
   "source": [
    "print(x_train.shape)"
   ]
  },
  {
   "cell_type": "code",
   "execution_count": 60,
   "metadata": {},
   "outputs": [],
   "source": [
    "X_train = np.empty((0,1000),int)\n",
    "Y_train = []\n",
    "X_test = np.empty((0,1000),int)\n",
    "Y_test = []\n",
    "for j in range(10):\n",
    "    for i in range(10):\n",
    "        X_train = np.append(X_train,np.array([x_train[j][i:i+1000]]),axis= 0 )\n",
    "        Y_train.append(y_train[j])\n",
    "Y_train = np.array(Y_train)\n",
    "        \n",
    "for j in range(5):\n",
    "    for i in range(10):\n",
    "        X_test = np.append(X_test,np.array([x_test[j][i:i+1000]]),axis= 0 )\n",
    "        Y_test.append(y_test[j])\n",
    "Y_test = np.array(Y_test)"
   ]
  },
  {
   "cell_type": "code",
   "execution_count": 67,
   "metadata": {},
   "outputs": [],
   "source": [
    "X_train = X_train.reshape(100,1000,1)\n",
    "X_test = X_test.reshape(50,1000,1)"
   ]
  },
  {
   "cell_type": "code",
   "execution_count": 70,
   "metadata": {},
   "outputs": [
    {
     "name": "stdout",
     "output_type": "stream",
     "text": [
      "(100, 2)\n"
     ]
    }
   ],
   "source": [
    "from keras.utils import np_utils\n",
    "\n",
    "nb_classes = 2\n",
    "Y_train = np_utils.to_categorical(Y_train, nb_classes)\n",
    "Y_test = np_utils.to_categorical(Y_test, nb_classes)\n",
    "print(Y_train.shape)\n"
   ]
  },
  {
   "cell_type": "code",
   "execution_count": 51,
   "metadata": {},
   "outputs": [],
   "source": [
    "import pandas as pd\n",
    "import numpy as np\n",
    "import math\n",
    "import random\n",
    "%matplotlib inline\n",
    "# random.seed(0)\n",
    "# # 乱数の係数\n",
    "# random_factor = 0.05\n",
    "# # サイクルあたりのステップ数\n",
    "# steps_per_cycle = 80\n",
    "# # 生成するサイクル数\n",
    "# number_of_cycles = 50\n",
    "\n",
    "# df = pd.DataFrame(np.arange(steps_per_cycle * number_of_cycles + 1), columns=[\"t\"])\n",
    "# df[\"sin_t\"] = df.t.apply(lambda x: math.sin(x * (2 * math.pi / steps_per_cycle)+ random.uniform(-1.0, +1.0) * random_factor))\n",
    "# df[[\"sin_t\"]].head(steps_per_cycle * 2).plot()"
   ]
  },
  {
   "cell_type": "code",
   "execution_count": 77,
   "metadata": {
    "scrolled": false
   },
   "outputs": [
    {
     "name": "stdout",
     "output_type": "stream",
     "text": [
      "_________________________________________________________________\n",
      "Layer (type)                 Output Shape              Param #   \n",
      "=================================================================\n",
      "lstm_7 (LSTM)                (None, 300)               362400    \n",
      "_________________________________________________________________\n",
      "dense_5 (Dense)              (None, 2)                 602       \n",
      "_________________________________________________________________\n",
      "activation_5 (Activation)    (None, 2)                 0         \n",
      "=================================================================\n",
      "Total params: 363,002\n",
      "Trainable params: 363,002\n",
      "Non-trainable params: 0\n",
      "_________________________________________________________________\n"
     ]
    }
   ],
   "source": [
    "from keras.models import Sequential  \n",
    "from keras.layers.core import Dense, Activation  \n",
    "from keras.layers.recurrent import LSTM\n",
    "\n",
    "length_of_sequences = 1000\n",
    "in_out_neurons = 2\n",
    "hidden_neurons = 300\n",
    "\n",
    "model = Sequential()  \n",
    "model.add(LSTM(hidden_neurons, batch_input_shape=(None, length_of_sequences, 1), return_sequences=False))  \n",
    "model.add(Dense(in_out_neurons))  \n",
    "model.add(Activation(\"linear\"))  \n",
    "model.compile(loss=\"categorical_crossentropy\", optimizer=\"adam\")\n",
    "model.summary()"
   ]
  },
  {
   "cell_type": "code",
   "execution_count": 78,
   "metadata": {},
   "outputs": [
    {
     "name": "stdout",
     "output_type": "stream",
     "text": [
      "Train on 95 samples, validate on 5 samples\n",
      "Epoch 1/15\n"
     ]
    },
    {
     "ename": "KeyboardInterrupt",
     "evalue": "",
     "output_type": "error",
     "traceback": [
      "\u001b[0;31m---------------------------------------------------------------------------\u001b[0m",
      "\u001b[0;31mKeyboardInterrupt\u001b[0m                         Traceback (most recent call last)",
      "\u001b[0;32m<ipython-input-78-4192c32716af>\u001b[0m in \u001b[0;36m<module>\u001b[0;34m()\u001b[0m\n\u001b[0;32m----> 1\u001b[0;31m \u001b[0mmodel\u001b[0m\u001b[0;34m.\u001b[0m\u001b[0mfit\u001b[0m\u001b[0;34m(\u001b[0m\u001b[0mX_train\u001b[0m\u001b[0;34m,\u001b[0m \u001b[0mY_train\u001b[0m\u001b[0;34m,\u001b[0m \u001b[0mbatch_size\u001b[0m\u001b[0;34m=\u001b[0m\u001b[0;36m600\u001b[0m\u001b[0;34m,\u001b[0m \u001b[0mepochs\u001b[0m\u001b[0;34m=\u001b[0m\u001b[0;36m15\u001b[0m\u001b[0;34m,\u001b[0m \u001b[0mvalidation_split\u001b[0m\u001b[0;34m=\u001b[0m\u001b[0;36m0.05\u001b[0m\u001b[0;34m)\u001b[0m\u001b[0;34m\u001b[0m\u001b[0m\n\u001b[0m",
      "\u001b[0;32m/Users/kazuki/.pyenv/versions/3.6.1/lib/python3.6/site-packages/keras/models.py\u001b[0m in \u001b[0;36mfit\u001b[0;34m(self, x, y, batch_size, epochs, verbose, callbacks, validation_split, validation_data, shuffle, class_weight, sample_weight, initial_epoch, **kwargs)\u001b[0m\n\u001b[1;32m    861\u001b[0m                               \u001b[0mclass_weight\u001b[0m\u001b[0;34m=\u001b[0m\u001b[0mclass_weight\u001b[0m\u001b[0;34m,\u001b[0m\u001b[0;34m\u001b[0m\u001b[0m\n\u001b[1;32m    862\u001b[0m                               \u001b[0msample_weight\u001b[0m\u001b[0;34m=\u001b[0m\u001b[0msample_weight\u001b[0m\u001b[0;34m,\u001b[0m\u001b[0;34m\u001b[0m\u001b[0m\n\u001b[0;32m--> 863\u001b[0;31m                               initial_epoch=initial_epoch)\n\u001b[0m\u001b[1;32m    864\u001b[0m \u001b[0;34m\u001b[0m\u001b[0m\n\u001b[1;32m    865\u001b[0m     def evaluate(self, x, y, batch_size=32, verbose=1,\n",
      "\u001b[0;32m/Users/kazuki/.pyenv/versions/3.6.1/lib/python3.6/site-packages/keras/engine/training.py\u001b[0m in \u001b[0;36mfit\u001b[0;34m(self, x, y, batch_size, epochs, verbose, callbacks, validation_split, validation_data, shuffle, class_weight, sample_weight, initial_epoch, **kwargs)\u001b[0m\n\u001b[1;32m   1428\u001b[0m                               \u001b[0mval_f\u001b[0m\u001b[0;34m=\u001b[0m\u001b[0mval_f\u001b[0m\u001b[0;34m,\u001b[0m \u001b[0mval_ins\u001b[0m\u001b[0;34m=\u001b[0m\u001b[0mval_ins\u001b[0m\u001b[0;34m,\u001b[0m \u001b[0mshuffle\u001b[0m\u001b[0;34m=\u001b[0m\u001b[0mshuffle\u001b[0m\u001b[0;34m,\u001b[0m\u001b[0;34m\u001b[0m\u001b[0m\n\u001b[1;32m   1429\u001b[0m                               \u001b[0mcallback_metrics\u001b[0m\u001b[0;34m=\u001b[0m\u001b[0mcallback_metrics\u001b[0m\u001b[0;34m,\u001b[0m\u001b[0;34m\u001b[0m\u001b[0m\n\u001b[0;32m-> 1430\u001b[0;31m                               initial_epoch=initial_epoch)\n\u001b[0m\u001b[1;32m   1431\u001b[0m \u001b[0;34m\u001b[0m\u001b[0m\n\u001b[1;32m   1432\u001b[0m     \u001b[0;32mdef\u001b[0m \u001b[0mevaluate\u001b[0m\u001b[0;34m(\u001b[0m\u001b[0mself\u001b[0m\u001b[0;34m,\u001b[0m \u001b[0mx\u001b[0m\u001b[0;34m,\u001b[0m \u001b[0my\u001b[0m\u001b[0;34m,\u001b[0m \u001b[0mbatch_size\u001b[0m\u001b[0;34m=\u001b[0m\u001b[0;36m32\u001b[0m\u001b[0;34m,\u001b[0m \u001b[0mverbose\u001b[0m\u001b[0;34m=\u001b[0m\u001b[0;36m1\u001b[0m\u001b[0;34m,\u001b[0m \u001b[0msample_weight\u001b[0m\u001b[0;34m=\u001b[0m\u001b[0;32mNone\u001b[0m\u001b[0;34m)\u001b[0m\u001b[0;34m:\u001b[0m\u001b[0;34m\u001b[0m\u001b[0m\n",
      "\u001b[0;32m/Users/kazuki/.pyenv/versions/3.6.1/lib/python3.6/site-packages/keras/engine/training.py\u001b[0m in \u001b[0;36m_fit_loop\u001b[0;34m(self, f, ins, out_labels, batch_size, epochs, verbose, callbacks, val_f, val_ins, shuffle, callback_metrics, initial_epoch)\u001b[0m\n\u001b[1;32m   1077\u001b[0m                 \u001b[0mbatch_logs\u001b[0m\u001b[0;34m[\u001b[0m\u001b[0;34m'size'\u001b[0m\u001b[0;34m]\u001b[0m \u001b[0;34m=\u001b[0m \u001b[0mlen\u001b[0m\u001b[0;34m(\u001b[0m\u001b[0mbatch_ids\u001b[0m\u001b[0;34m)\u001b[0m\u001b[0;34m\u001b[0m\u001b[0m\n\u001b[1;32m   1078\u001b[0m                 \u001b[0mcallbacks\u001b[0m\u001b[0;34m.\u001b[0m\u001b[0mon_batch_begin\u001b[0m\u001b[0;34m(\u001b[0m\u001b[0mbatch_index\u001b[0m\u001b[0;34m,\u001b[0m \u001b[0mbatch_logs\u001b[0m\u001b[0;34m)\u001b[0m\u001b[0;34m\u001b[0m\u001b[0m\n\u001b[0;32m-> 1079\u001b[0;31m                 \u001b[0mouts\u001b[0m \u001b[0;34m=\u001b[0m \u001b[0mf\u001b[0m\u001b[0;34m(\u001b[0m\u001b[0mins_batch\u001b[0m\u001b[0;34m)\u001b[0m\u001b[0;34m\u001b[0m\u001b[0m\n\u001b[0m\u001b[1;32m   1080\u001b[0m                 \u001b[0;32mif\u001b[0m \u001b[0;32mnot\u001b[0m \u001b[0misinstance\u001b[0m\u001b[0;34m(\u001b[0m\u001b[0mouts\u001b[0m\u001b[0;34m,\u001b[0m \u001b[0mlist\u001b[0m\u001b[0;34m)\u001b[0m\u001b[0;34m:\u001b[0m\u001b[0;34m\u001b[0m\u001b[0m\n\u001b[1;32m   1081\u001b[0m                     \u001b[0mouts\u001b[0m \u001b[0;34m=\u001b[0m \u001b[0;34m[\u001b[0m\u001b[0mouts\u001b[0m\u001b[0;34m]\u001b[0m\u001b[0;34m\u001b[0m\u001b[0m\n",
      "\u001b[0;32m/Users/kazuki/.pyenv/versions/3.6.1/lib/python3.6/site-packages/keras/backend/tensorflow_backend.py\u001b[0m in \u001b[0;36m__call__\u001b[0;34m(self, inputs)\u001b[0m\n\u001b[1;32m   2266\u001b[0m         updated = session.run(self.outputs + [self.updates_op],\n\u001b[1;32m   2267\u001b[0m                               \u001b[0mfeed_dict\u001b[0m\u001b[0;34m=\u001b[0m\u001b[0mfeed_dict\u001b[0m\u001b[0;34m,\u001b[0m\u001b[0;34m\u001b[0m\u001b[0m\n\u001b[0;32m-> 2268\u001b[0;31m                               **self.session_kwargs)\n\u001b[0m\u001b[1;32m   2269\u001b[0m         \u001b[0;32mreturn\u001b[0m \u001b[0mupdated\u001b[0m\u001b[0;34m[\u001b[0m\u001b[0;34m:\u001b[0m\u001b[0mlen\u001b[0m\u001b[0;34m(\u001b[0m\u001b[0mself\u001b[0m\u001b[0;34m.\u001b[0m\u001b[0moutputs\u001b[0m\u001b[0;34m)\u001b[0m\u001b[0;34m]\u001b[0m\u001b[0;34m\u001b[0m\u001b[0m\n\u001b[1;32m   2270\u001b[0m \u001b[0;34m\u001b[0m\u001b[0m\n",
      "\u001b[0;32m/Users/kazuki/.pyenv/versions/3.6.1/lib/python3.6/site-packages/tensorflow/python/client/session.py\u001b[0m in \u001b[0;36mrun\u001b[0;34m(self, fetches, feed_dict, options, run_metadata)\u001b[0m\n\u001b[1;32m    787\u001b[0m     \u001b[0;32mtry\u001b[0m\u001b[0;34m:\u001b[0m\u001b[0;34m\u001b[0m\u001b[0m\n\u001b[1;32m    788\u001b[0m       result = self._run(None, fetches, feed_dict, options_ptr,\n\u001b[0;32m--> 789\u001b[0;31m                          run_metadata_ptr)\n\u001b[0m\u001b[1;32m    790\u001b[0m       \u001b[0;32mif\u001b[0m \u001b[0mrun_metadata\u001b[0m\u001b[0;34m:\u001b[0m\u001b[0;34m\u001b[0m\u001b[0m\n\u001b[1;32m    791\u001b[0m         \u001b[0mproto_data\u001b[0m \u001b[0;34m=\u001b[0m \u001b[0mtf_session\u001b[0m\u001b[0;34m.\u001b[0m\u001b[0mTF_GetBuffer\u001b[0m\u001b[0;34m(\u001b[0m\u001b[0mrun_metadata_ptr\u001b[0m\u001b[0;34m)\u001b[0m\u001b[0;34m\u001b[0m\u001b[0m\n",
      "\u001b[0;32m/Users/kazuki/.pyenv/versions/3.6.1/lib/python3.6/site-packages/tensorflow/python/client/session.py\u001b[0m in \u001b[0;36m_run\u001b[0;34m(self, handle, fetches, feed_dict, options, run_metadata)\u001b[0m\n\u001b[1;32m    995\u001b[0m     \u001b[0;32mif\u001b[0m \u001b[0mfinal_fetches\u001b[0m \u001b[0;32mor\u001b[0m \u001b[0mfinal_targets\u001b[0m\u001b[0;34m:\u001b[0m\u001b[0;34m\u001b[0m\u001b[0m\n\u001b[1;32m    996\u001b[0m       results = self._do_run(handle, final_targets, final_fetches,\n\u001b[0;32m--> 997\u001b[0;31m                              feed_dict_string, options, run_metadata)\n\u001b[0m\u001b[1;32m    998\u001b[0m     \u001b[0;32melse\u001b[0m\u001b[0;34m:\u001b[0m\u001b[0;34m\u001b[0m\u001b[0m\n\u001b[1;32m    999\u001b[0m       \u001b[0mresults\u001b[0m \u001b[0;34m=\u001b[0m \u001b[0;34m[\u001b[0m\u001b[0;34m]\u001b[0m\u001b[0;34m\u001b[0m\u001b[0m\n",
      "\u001b[0;32m/Users/kazuki/.pyenv/versions/3.6.1/lib/python3.6/site-packages/tensorflow/python/client/session.py\u001b[0m in \u001b[0;36m_do_run\u001b[0;34m(self, handle, target_list, fetch_list, feed_dict, options, run_metadata)\u001b[0m\n\u001b[1;32m   1130\u001b[0m     \u001b[0;32mif\u001b[0m \u001b[0mhandle\u001b[0m \u001b[0;32mis\u001b[0m \u001b[0;32mNone\u001b[0m\u001b[0;34m:\u001b[0m\u001b[0;34m\u001b[0m\u001b[0m\n\u001b[1;32m   1131\u001b[0m       return self._do_call(_run_fn, self._session, feed_dict, fetch_list,\n\u001b[0;32m-> 1132\u001b[0;31m                            target_list, options, run_metadata)\n\u001b[0m\u001b[1;32m   1133\u001b[0m     \u001b[0;32melse\u001b[0m\u001b[0;34m:\u001b[0m\u001b[0;34m\u001b[0m\u001b[0m\n\u001b[1;32m   1134\u001b[0m       return self._do_call(_prun_fn, self._session, handle, feed_dict,\n",
      "\u001b[0;32m/Users/kazuki/.pyenv/versions/3.6.1/lib/python3.6/site-packages/tensorflow/python/client/session.py\u001b[0m in \u001b[0;36m_do_call\u001b[0;34m(self, fn, *args)\u001b[0m\n\u001b[1;32m   1137\u001b[0m   \u001b[0;32mdef\u001b[0m \u001b[0m_do_call\u001b[0m\u001b[0;34m(\u001b[0m\u001b[0mself\u001b[0m\u001b[0;34m,\u001b[0m \u001b[0mfn\u001b[0m\u001b[0;34m,\u001b[0m \u001b[0;34m*\u001b[0m\u001b[0margs\u001b[0m\u001b[0;34m)\u001b[0m\u001b[0;34m:\u001b[0m\u001b[0;34m\u001b[0m\u001b[0m\n\u001b[1;32m   1138\u001b[0m     \u001b[0;32mtry\u001b[0m\u001b[0;34m:\u001b[0m\u001b[0;34m\u001b[0m\u001b[0m\n\u001b[0;32m-> 1139\u001b[0;31m       \u001b[0;32mreturn\u001b[0m \u001b[0mfn\u001b[0m\u001b[0;34m(\u001b[0m\u001b[0;34m*\u001b[0m\u001b[0margs\u001b[0m\u001b[0;34m)\u001b[0m\u001b[0;34m\u001b[0m\u001b[0m\n\u001b[0m\u001b[1;32m   1140\u001b[0m     \u001b[0;32mexcept\u001b[0m \u001b[0merrors\u001b[0m\u001b[0;34m.\u001b[0m\u001b[0mOpError\u001b[0m \u001b[0;32mas\u001b[0m \u001b[0me\u001b[0m\u001b[0;34m:\u001b[0m\u001b[0;34m\u001b[0m\u001b[0m\n\u001b[1;32m   1141\u001b[0m       \u001b[0mmessage\u001b[0m \u001b[0;34m=\u001b[0m \u001b[0mcompat\u001b[0m\u001b[0;34m.\u001b[0m\u001b[0mas_text\u001b[0m\u001b[0;34m(\u001b[0m\u001b[0me\u001b[0m\u001b[0;34m.\u001b[0m\u001b[0mmessage\u001b[0m\u001b[0;34m)\u001b[0m\u001b[0;34m\u001b[0m\u001b[0m\n",
      "\u001b[0;32m/Users/kazuki/.pyenv/versions/3.6.1/lib/python3.6/site-packages/tensorflow/python/client/session.py\u001b[0m in \u001b[0;36m_run_fn\u001b[0;34m(session, feed_dict, fetch_list, target_list, options, run_metadata)\u001b[0m\n\u001b[1;32m   1119\u001b[0m         return tf_session.TF_Run(session, options,\n\u001b[1;32m   1120\u001b[0m                                  \u001b[0mfeed_dict\u001b[0m\u001b[0;34m,\u001b[0m \u001b[0mfetch_list\u001b[0m\u001b[0;34m,\u001b[0m \u001b[0mtarget_list\u001b[0m\u001b[0;34m,\u001b[0m\u001b[0;34m\u001b[0m\u001b[0m\n\u001b[0;32m-> 1121\u001b[0;31m                                  status, run_metadata)\n\u001b[0m\u001b[1;32m   1122\u001b[0m \u001b[0;34m\u001b[0m\u001b[0m\n\u001b[1;32m   1123\u001b[0m     \u001b[0;32mdef\u001b[0m \u001b[0m_prun_fn\u001b[0m\u001b[0;34m(\u001b[0m\u001b[0msession\u001b[0m\u001b[0;34m,\u001b[0m \u001b[0mhandle\u001b[0m\u001b[0;34m,\u001b[0m \u001b[0mfeed_dict\u001b[0m\u001b[0;34m,\u001b[0m \u001b[0mfetch_list\u001b[0m\u001b[0;34m)\u001b[0m\u001b[0;34m:\u001b[0m\u001b[0;34m\u001b[0m\u001b[0m\n",
      "\u001b[0;31mKeyboardInterrupt\u001b[0m: "
     ]
    }
   ],
   "source": [
    "model.fit(X_train, Y_train, batch_size=600, epochs=15, validation_split=0.05) "
   ]
  },
  {
   "cell_type": "code",
   "execution_count": 7,
   "metadata": {},
   "outputs": [
    {
     "data": {
      "text/plain": [
       "<matplotlib.axes._subplots.AxesSubplot at 0x11a942898>"
      ]
     },
     "execution_count": 7,
     "metadata": {},
     "output_type": "execute_result"
    },
    {
     "data": {
      "image/png": "[encoded data removed]",
      "text/plain": [
       "<matplotlib.figure.Figure at 0x11af5ef28>"
      ]
     },
     "metadata": {},
     "output_type": "display_data"
    }
   ],
   "source": [
    "predicted = model.predict(X_test) \n",
    "dataf =  pd.DataFrame(predicted[:200])\n",
    "dataf.columns = [\"predict\"]\n",
    "dataf[\"input\"] = y_test[:200]\n",
    "dataf.plot(figsize=(15, 5))"
   ]
  }
 ],
 "metadata": {
  "kernelspec": {
   "display_name": "Python 3",
   "language": "python",
   "name": "python3"
  },
  "language_info": {
   "codemirror_mode": {
    "name": "ipython",
    "version": 3
   },
   "file_extension": ".py",
   "mimetype": "text/x-python",
   "name": "python",
   "nbconvert_exporter": "python",
   "pygments_lexer": "ipython3",
   "version": "3.6.1"
  }
 },
 "nbformat": 4,
 "nbformat_minor": 2
}
